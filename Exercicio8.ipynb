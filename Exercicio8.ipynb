{
 "cells": [
  {
   "cell_type": "markdown",
   "metadata": {},
   "source": [
    "\n",
    "1) Faça um Programa que peça o raio de um círculo, calcule e mostre sua área."
   ]
  },
  {
   "cell_type": "code",
   "execution_count": 1,
   "metadata": {},
   "outputs": [
    {
     "name": "stdout",
     "output_type": "stream",
     "text": [
      "Digite o valor do raio: 23\n",
      "O valor da área é 1661.90\n"
     ]
    }
   ],
   "source": [
    "pi = 3.14159265\n",
    "raio = float (input(\"Digite o valor do raio: \"))\n",
    "area = pi*(raio**2)\n",
    "print('O valor da área é %.2f' %area)"
   ]
  },
  {
   "cell_type": "markdown",
   "metadata": {},
   "source": [
    "2) Faça um Programa que calcule a area de um quadrado, em seguida mostre o dobro"
   ]
  },
  {
   "cell_type": "code",
   "execution_count": 2,
   "metadata": {},
   "outputs": [
    {
     "name": "stdout",
     "output_type": "stream",
     "text": [
      "Digite a altura: 175\n",
      "Digite a largura: 2\n",
      "A área do quadrado é :700.00\n",
      "e o dobro da área é: 1400.00\n"
     ]
    }
   ],
   "source": [
    "altura = float(input(\"Digite a altura: \"))\n",
    "largura = float(input(\"Digite a largura: \"))\n",
    "area = altura*largura**2\n",
    "dobro = area*2\n",
    "print('A área do quadrado é :%.2f' %area)\n",
    "print('e o dobro da área é: %.2f' %dobro)"
   ]
  },
  {
   "cell_type": "markdown",
   "metadata": {},
   "source": [
    "3) Faça um Programa que pergunte quanto voce ganha por hora e o numero de horas trabalhadas no mes. Calcule e mostre o total do seu salario no referido mes."
   ]
  },
  {
   "cell_type": "code",
   "execution_count": 4,
   "metadata": {},
   "outputs": [
    {
     "name": "stdout",
     "output_type": "stream",
     "text": [
      "Digite o valor que você ganha por hora:17\n",
      "Digite a quantidade de horas que você trabalha no mês:220\n",
      "seu salario esse mes será : R$3740.00\n"
     ]
    }
   ],
   "source": [
    "ganhos_hora = float(input(\"Digite o valor que você ganha por hora:\"))\n",
    "quant_hrs_mes = float(input(\"Digite a quantidade de horas que você trabalha no mês:\"))\n",
    "total_salario = ganhos_hora*quant_hrs_mes\n",
    "print('seu salario esse mes será : R$%.2f' %total_salario  )"
   ]
  },
  {
   "cell_type": "markdown",
   "metadata": {},
   "source": [
    "4) Faça um Programa que peca a temperatura em graus Farenheit, transforme e mostre a temperatura em graus Celsius. C = (5 * (F-32) / 9)."
   ]
  },
  {
   "cell_type": "code",
   "execution_count": 5,
   "metadata": {},
   "outputs": [
    {
     "name": "stdout",
     "output_type": "stream",
     "text": [
      "digite a temperatura em Farenheit: 21\n",
      "A conversã da tempreatura em graus graus Ceusius é:  -6.111111111111111\n"
     ]
    }
   ],
   "source": [
    "F = int(input('digite a temperatura em Farenheit: '))\n",
    "c = (5 * (F-32) / 9)\n",
    "print(\"A conversã da tempreatura em graus graus Ceusius é: \",c  )"
   ]
  },
  {
   "cell_type": "markdown",
   "metadata": {},
   "source": [
    "5) Faca um Programa que peca a temperatura em graus Celsius, transforme e mostre em graus Farenheit"
   ]
  },
  {
   "cell_type": "code",
   "execution_count": 7,
   "metadata": {},
   "outputs": [
    {
     "name": "stdout",
     "output_type": "stream",
     "text": [
      "digite a temperatura em graus celsius: 53\n",
      "A conversão da tempreatura em graus graus Farenheit é: 127.4\n"
     ]
    }
   ],
   "source": [
    "celcius = int(input('digite a temperatura em graus celsius: '))\n",
    "far = (9*celcius/5)+32\n",
    "print(\"A conversão da tempreatura em graus graus Farenheit é:\",far)"
   ]
  },
  {
   "cell_type": "markdown",
   "metadata": {},
   "source": [
    "6) Faça um Programa que peca 2 numeros inteiros e um numero real. Calcule e mostre:"
   ]
  },
  {
   "cell_type": "code",
   "execution_count": 9,
   "metadata": {},
   "outputs": [
    {
     "name": "stdout",
     "output_type": "stream",
     "text": [
      "Digite o primeiro numero inteiro: 12\n",
      "Digite o segundo numero inteiro: 12\n",
      "Agora digite um numero real: 24.6\n",
      " \n",
      "a) O produto do dobro do primeiro é 24, e metade do segundo é :6.0\n",
      "\n",
      "Sendo assim soma produto do dobro do primeiro  com metade do segundo é :  30.0\n",
      "\n",
      "b) O triplo do primeiro é 36, e o terceiro é 24.6\n",
      "\n",
      "Sendo assim a soma do triplo do primeiro com o terceiro é :  60.6\n",
      "\n",
      "c) O terceiro elevado ao cubo é :14886.94\n"
     ]
    }
   ],
   "source": [
    "primeiro = int(input(\"Digite o primeiro numero inteiro: \"))\n",
    "segundo = int(input(\"Digite o segundo numero inteiro: \"))\n",
    "terceiro = float(input(\"Agora digite um numero real: \"))\n",
    "a1 = 2*primeiro\n",
    "a2 = segundo/2\n",
    "b1 = primeiro*3\n",
    "calc_a = a1+a2\n",
    "calc_b = b1+terceiro\n",
    "calc_c = terceiro**3\n",
    "print(f\" \\na) O produto do dobro do primeiro é {a1}, e metade do segundo é :{a2}\" )\n",
    "print(\"\\nSendo assim soma produto do dobro do primeiro  com metade do segundo é : \", calc_a)\n",
    "print(f\"\\nb) O triplo do primeiro é {b1}, e o terceiro é {terceiro}\")\n",
    "print(\"\\nSendo assim a soma do triplo do primeiro com o terceiro é : \", calc_b)\n",
    "print('\\nc) O terceiro elevado ao cubo é :%.2f' %calc_c)"
   ]
  },
  {
   "cell_type": "markdown",
   "metadata": {},
   "source": [
    "7) Joao Papo-de-Pescador, homem de bem, comprou um microcomputador para controlar o rendimento diário de seu trabalho. Toda vez que ele traz um peso de peixes maior que o estabelecido pelo regulamento de pesca do estado de São Paulo (50 quilos) deve pagar uma multa de R$ 4,00 por quilo excedente. Joao precisa que você faça um programa que leia a variável peso (peso de peixes) e verifique se há excesso. Se houver, gravar na variável excesso e na variável multa o valor da multa que Joao deverá pagar. Caso contrário mostrar tais variáveis com o conteúdo zero."
   ]
  },
  {
   "cell_type": "code",
   "execution_count": 11,
   "metadata": {},
   "outputs": [
    {
     "name": "stdout",
     "output_type": "stream",
     "text": [
      "digite o peso: 600\n",
      "O valor da multa é:  2400\n"
     ]
    }
   ],
   "source": [
    "#Entrada\n",
    "peso = int(input(\"digite o peso: \"))\n",
    "#Ifzinho\n",
    "if peso > 50 :\n",
    "    excesso = peso*4   \n",
    "    multa = excesso\n",
    "    print(\"O valor da multa é: \", multa)\n",
    "else: \n",
    "    print('Não haverá multa, pois não consta excesso de peso')"
   ]
  },
  {
   "cell_type": "markdown",
   "metadata": {},
   "source": [
    "8) Faça um Programa que pergunte quanto voce ganha por hora e o numero de horas trabalhadas no mes. Calcule e mostre o total do seu salario no referido mes, sabendo-se que sao descontados 11% para o Imposto de Renda, 8% para o INSS e 5% para o sindicato. faca um programa que nos de: Salario bruto, Quanto pagou ao INSS, Quanto pagou ao sindicato e O salario liquido. Calcule os descontos e o salario liquido, conforme as informações passadas pelo professor: a)Salario Bruto : R$ b)IR (11%) : R$ c)INSS (8%) : R$ d)Sindicato ( 5%) : R$ e)Salario Liquido : R$ Obs.: Salario Bruto - Descontos = Salario Liquido"
   ]
  },
  {
   "cell_type": "code",
   "execution_count": 12,
   "metadata": {},
   "outputs": [
    {
     "name": "stdout",
     "output_type": "stream",
     "text": [
      "Digite o valor do seu salario bruto:R$3800\n",
      "O valor pago em INSS foi de R$304.00\n",
      "O valor pago ao Sindicato foi de R$190.00\n",
      "O Salario liquido foi de R$3306.00\n"
     ]
    }
   ],
   "source": [
    "#Entradas:\n",
    "salario_bruto = float(input(\"Digite o valor do seu salario bruto:R$\"))\n",
    "\n",
    "#Porcentagem sobe as entradas:\n",
    "ir=11/salario_bruto/100\n",
    "inss = 8*salario_bruto/100\n",
    "sindicato = 5*salario_bruto/100\n",
    "descontos = ir+inss+sindicato\n",
    "salario_liquido = salario_bruto-descontos\n",
    "print('O valor pago em INSS foi de R$%.2f' %inss)\n",
    "print('O valor pago ao Sindicato foi de R$%.2f'%sindicato)\n",
    "print('O Salario liquido foi de R$%.2f'%salario_liquido)"
   ]
  },
  {
   "cell_type": "markdown",
   "metadata": {},
   "source": [
    "9) Faça um programa que leia 2 strings e informe o conteudo delas seguido do seu comprimento. Informe tambem se as duas strings possuem o mesmo comprimento e sao iguais ou diferentes no conteudo. Exemplo: String 1: Brasil Hexa 2018 String 2: Brasil! Hexa 2018! Tamanho de \"Brasil Hexa 2018\": 16 caracteres Tamanho de \"Brasil! Hexa 2018!\": 18 caracteres As duas strings sao de tamanhos diferentes. As duas strings possuem conteudo diferente."
   ]
  },
  {
   "cell_type": "code",
   "execution_count": 14,
   "metadata": {},
   "outputs": [
    {
     "name": "stdout",
     "output_type": "stream",
     "text": [
      "Digite uma frase: Sidny\n",
      "Digite outra frase: Sid\n",
      "tamanho de : 5 caracteres\n",
      "tamanho de : 3 caracteres\n",
      "As duas strings são de tamanhos diferentes\n"
     ]
    }
   ],
   "source": [
    "\n",
    "st1 = input(\"Digite uma frase: \")\n",
    "st2 = input(\"Digite outra frase: \")\n",
    "print(f\"tamanho de : {len(st1)} caracteres\")\n",
    "print(f\"tamanho de : {len(st2)} caracteres\")\n",
    "\n",
    "if st1 == st2:\n",
    "    print(\"As duas strings sao de tamanhos iguais\")\n",
    "else:\n",
    "    print(\"As duas strings são de tamanhos diferentes\")"
   ]
  },
  {
   "cell_type": "markdown",
   "metadata": {},
   "source": [
    "10) Faça um programa que permita ao usuario digitar o seu nome e em seguida mostre o nome do usuario de tras para frente utilizando somente letras maiusculas. Dica: lembre−se que ao informar o nome o usuario pode digitar letras maiusculas ou minusculas. Observacao: nao use loops."
   ]
  },
  {
   "cell_type": "code",
   "execution_count": 16,
   "metadata": {},
   "outputs": [
    {
     "name": "stdout",
     "output_type": "stream",
     "text": [
      "Digite seu nome: \n",
      " pode digitar letras maiusculas ou minusculas lapis\n",
      "SIPAL\n"
     ]
    }
   ],
   "source": [
    "n = input(\"Digite seu nome: \\n pode digitar letras maiusculas ou minusculas \")\n",
    "\n",
    "#Conversão:\n",
    "n = n[::-1].upper()\n",
    "print(n)"
   ]
  },
  {
   "cell_type": "markdown",
   "metadata": {},
   "source": [
    "11) Faça um programa que solicite a data de nascimento (dd/mm/aaaa) do usuario e imprima a data com o nome do mes por extenso. Data de Nascimento: 29/10/1973 Voce nasceu em 29 de Outubro de 1973. Obs.: Nao use desvio condicional nem loops."
   ]
  },
  {
   "cell_type": "code",
   "execution_count": 19,
   "metadata": {},
   "outputs": [
    {
     "name": "stdout",
     "output_type": "stream",
     "text": [
      "digite sua data de nascimento: 29/12/1994\n",
      "Você nasceu dia 29 de Dezembro de 1994\n"
     ]
    }
   ],
   "source": [
    "data = input(\"digite sua data de nascimento: \")\n",
    "data = data.split('/')\n",
    "data = {'valor':data}\n",
    "\n",
    "#Vetores\n",
    "dia = data['valor'][0]\n",
    "ano = data['valor'][2]\n",
    "mes = data['valor'][1]\n",
    "\n",
    "mes_todos = {'01':'Janeiro',\n",
    "             '02':'Fevereiro',\n",
    "             '03':'Março',\n",
    "             '04':'Abril',\n",
    "             '05':'Maio',\n",
    "             '06':'Junho',\n",
    "             '07':'Julho',\n",
    "             '08':'Agosto',\n",
    "             '09':'Setembro',\n",
    "             '10':'Outubro', \n",
    "             '11':'Novembro',\n",
    "             '12':'Dezembro'\n",
    "            }\n",
    "mes_escrito = mes_todos[mes]\n",
    "\n",
    "print(f\"Você nasceu dia {dia} de {mes_escrito} de {ano}\")"
   ]
  },
  {
   "cell_type": "markdown",
   "metadata": {},
   "source": [
    "12) Leet é uma forma de se escrever o alfabeto latino usando outros simbolos em lugar das letras, como numeros por exemplo. A propria palavra leet admite muitas variacoes, como l33t ou 1337. O uso do leet reflete uma subcultura relacionada ao mundo dos jogos de computador e internet, sendo muito usada para confundir os iniciantes e afirmar-se como parte de um grupo. Pesquise sobre as principais formas de traduzir as letras. Depois, faca um programa que peca uma texto e transforme-o para a grafia leet speak. Desafio: nao use loops nem desvios condicionais."
   ]
  },
  {
   "cell_type": "code",
   "execution_count": 23,
   "metadata": {},
   "outputs": [
    {
     "name": "stdout",
     "output_type": "stream",
     "text": [
      "Digite algum texto aqui: asd\n",
      "45|))\n"
     ]
    }
   ],
   "source": [
    "mensagem = input(\"Digite algum texto aqui: \")\n",
    "texto = mensagem.lower()\n",
    "\n",
    "texto = texto.replace('a','4')\n",
    "texto = texto.replace('b','ß')\n",
    "texto = texto.replace('c','[')\n",
    "texto = texto.replace('d','|))')\n",
    "texto = texto.replace('e',' €')\n",
    "texto = texto.replace('f','|=')\n",
    "texto = texto.replace('g','6')\n",
    "texto = texto.replace('h','#')\n",
    "texto = texto.replace('i','1')\n",
    "texto = texto.replace('j','j')\n",
    "texto = texto.replace('k','X')\n",
    "texto = texto.replace('l','1')\n",
    "texto = texto.replace('m','^^')\n",
    "texto = texto.replace('n','//')\n",
    "texto = texto.replace('o','0')\n",
    "texto = texto.replace('p','|^')\n",
    "texto = texto.replace('q','q')\n",
    "texto = texto.replace('r','|2')\n",
    "texto = texto.replace('s','5')\n",
    "texto = texto.replace('t','7')\n",
    "texto = texto.replace('u','(_)')\n",
    "texto = texto.replace('v','\\/')\n",
    "texto = texto.replace('w','\\/\\/')\n",
    "texto = texto.replace('x','><')\n",
    "texto = texto.replace('y','Y')\n",
    "texto = texto.replace('z','2')\n",
    "\n",
    "print(texto)"
   ]
  },
  {
   "cell_type": "markdown",
   "metadata": {},
   "source": [
    "13) Crie um programa que recebe uma lista de numeros e retorne :\n",
    "\n",
    "- O maior elemento\n",
    "- A soma dos elementos\n",
    "- O numero de ocorrencias do primeiro elemento da lista\n",
    "- A media dos elementos O valor mais proximo da media dos elementos\n",
    "- A soma dos elementos com valor negativo A quantidade de vizinhos iguais"
   ]
  },
  {
   "cell_type": "code",
   "execution_count": 26,
   "metadata": {},
   "outputs": [
    {
     "name": "stdout",
     "output_type": "stream",
     "text": [
      "A soma dos elementos é: 1800 \n",
      "O maior elemento é : 2293 \n",
      "A soma dos elementos é : 0 \n",
      "o numero de ocorrencias do primeiro elemento da lista é : 191.08333333333334 \n",
      "a soma dos elementos com valor negativo é : -2293\n"
     ]
    }
   ],
   "source": [
    "#Lista\n",
    "lista_numeros = [11,12,13,11,-12,13,1800,82,32,32,-31,330]\n",
    "maior = max(lista_numeros)\n",
    "soma = sum(lista_numeros)\n",
    "ocorrencias_item_1 = lista_numeros.count(1)\n",
    "media = soma/len(lista_numeros)\n",
    "negativos = -+soma\n",
    "\n",
    "\n",
    "print(\"A soma dos elementos é: {} \\nO maior elemento é : {} \\nA soma dos elementos é : {} \\no numero de ocorrencias do primeiro elemento da lista é : {} \\na soma dos elementos com valor negativo é : {}\"\n",
    "      .format(maior, soma,ocorrencias_item_1, media,negativos))"
   ]
  },
  {
   "cell_type": "markdown",
   "metadata": {},
   "source": [
    "14) Faça um programa que receba duas listas e retorne True se sao iguais ou False caso contrario. Duas listas sao iguais se possuem os mesmos valores e na mesma ordem."
   ]
  },
  {
   "cell_type": "code",
   "execution_count": 28,
   "metadata": {},
   "outputs": [
    {
     "data": {
      "text/plain": [
       "False"
      ]
     },
     "execution_count": 28,
     "metadata": {},
     "output_type": "execute_result"
    }
   ],
   "source": [
    "\n",
    "lista_1 = [1,1,3]\n",
    "lista_2 = [1,2,3]\n",
    "lista_1[:len(lista_1)] == lista_2[:len(lista_2)]"
   ]
  },
  {
   "cell_type": "markdown",
   "metadata": {},
   "source": [
    "15) Faça um programa que receba duas listas e retorne True se tem os mesmos elementos ou False, caso contrario Duas listas possuem os mesmos elementos quando sao compostas pelos mesmos valores, mas nao obrigatoriamente na mesma ordem."
   ]
  },
  {
   "cell_type": "code",
   "execution_count": 29,
   "metadata": {},
   "outputs": [
    {
     "data": {
      "text/plain": [
       "True"
      ]
     },
     "execution_count": 29,
     "metadata": {},
     "output_type": "execute_result"
    }
   ],
   "source": [
    "lista_1 = [1,2,3]\n",
    "lista_2 = [3,2,1]\n",
    "set(lista_1) == set(lista_2)"
   ]
  },
  {
   "cell_type": "markdown",
   "metadata": {},
   "source": [
    "16) Faça um programa que percorre uma lista com o seguinte formato: [['Brasil', 'Italia', [10, 9]], ['Brasil', 'Espanha', [5, 7]], ['Italia', 'Espanha', [7,8]]]. Essa lista indica o numero de faltas que cada time fez em cada jogo. Na lista acima, no jogo entre Brasil e Italia, o Brasil fez 10 faltas e a Italia fez 9. O programa deve imprimir na tela:\n",
    "\n",
    "- o total de faltas do campeonato\n",
    "- o time que fez mais faltas\n",
    "- o time que fez menos faltas"
   ]
  },
  {
   "cell_type": "code",
   "execution_count": 30,
   "metadata": {},
   "outputs": [
    {
     "name": "stdout",
     "output_type": "stream",
     "text": [
      "O total de faltas no campeonato foi de : 46 faltas \n",
      "O time que cometeu maior numero de faltas foi : Italia, com 16 faltas \n",
      "O time que menos cometeu faltas foi : Brasil, com 15\n"
     ]
    }
   ],
   "source": [
    "campeonato_lista = [['Brasil', 'Italia', [10, 9]], ['Brasil', 'Espanha', [5, 7]], ['Italia', 'Espanha', [7,8]]]\n",
    "\n",
    "lista_1 = campeonato_lista[0]\n",
    "soma_faltas_1 = lista_1[2]\n",
    "faltas_brasil_lista_1 = soma_faltas_1[0]\n",
    "faltas_italia_lista_1 = soma_faltas_1[1]\n",
    "lista_2 = campeonato_lista[1]\n",
    "soma_faltas_2 = lista_2[2]\n",
    "faltas_brasil_lista_2 = soma_faltas_2[0]\n",
    "faltas_espanha_lista_2 = soma_faltas_2[1]\n",
    "lista_3 = campeonato_lista[2]\n",
    "soma_faltas_3 = lista_3[2]\n",
    "faltas_italia_lista_3 = soma_faltas_3[0]\n",
    "faltas_espanha_lista_3 = soma_faltas_3[1]\n",
    "faltas_brasil = faltas_brasil_lista_1+faltas_brasil_lista_2\n",
    "faltas_espanha = faltas_espanha_lista_2+faltas_espanha_lista_3\n",
    "faltas_italia = faltas_italia_lista_1+faltas_italia_lista_3\n",
    "\n",
    "todos = {'Brasil':faltas_brasil,'Espanha':faltas_espanha,'Italia':faltas_italia}\n",
    "\n",
    "total = sum(todos.values())\n",
    "\n",
    "maior_faltas_qtde = max(todos.keys())\n",
    "maior_faltas_time = max(todos.values())\n",
    "menor_faltas_qtde = min(todos.keys())\n",
    "menor_faltas_time = min(todos.values())\n",
    "\n",
    "print(f\"O total de faltas no campeonato foi de : {total} faltas \\nO time que cometeu maior numero de faltas foi : {maior_faltas_qtde}, com {maior_faltas_time} faltas \\nO time que menos cometeu faltas foi : {menor_faltas_qtde}, com {menor_faltas_time}\")"
   ]
  },
  {
   "cell_type": "markdown",
   "metadata": {},
   "source": [
    "17) Escreva um programa que conta a quantidade de vogais em uma string e armazena tal quantidade em um dicionário, onde a chave é a vogal considerada."
   ]
  },
  {
   "cell_type": "code",
   "execution_count": 32,
   "metadata": {},
   "outputs": [
    {
     "name": "stdout",
     "output_type": "stream",
     "text": [
      "Digite uma palavra : abacaxi\n",
      "{'a': 3, 'e': 0, 'i': 1, 'o': 0, 'u': 0}\n"
     ]
    }
   ],
   "source": [
    "# Entradas:\n",
    "\n",
    "text_vogais = input(\"Digite uma palavra : \")\n",
    "\n",
    "#Contagem de vogais:\n",
    "\n",
    "a = text_vogais.count(\"a\")\n",
    "e = text_vogais.count(\"e\")\n",
    "i = text_vogais.count(\"i\")\n",
    "o = text_vogais.count(\"o\")\n",
    "u = text_vogais.count(\"u\")\n",
    "\n",
    "#Recebimento\n",
    "dic = {'a':a,'e':e,'i':i,'o':o,'u':u}\n",
    "\n",
    "print(dic)"
   ]
  },
  {
   "cell_type": "markdown",
   "metadata": {},
   "source": [
    "18) Escreva um programa que lê̂ duas notas de vários alunos e armazena tais notas em um dicionário, onde a chave é o nome do aluno. A entrada de dados deve terminar quando for lida uma string vazia como nome. Escreva uma função que retorna a média do aluno, dado seu nome"
   ]
  },
  {
   "cell_type": "code",
   "execution_count": 36,
   "metadata": {},
   "outputs": [
    {
     "name": "stdout",
     "output_type": "stream",
     "text": [
      "O aluno(a) Joao ficou com média 7.5 \n",
      "O aluno(a) Maria ficou com média : 7.0\n"
     ]
    }
   ],
   "source": [
    "#Lista\n",
    "notas = [['Joao',[7.0,8.0]], ['Maria',[7.0,7.0]]]\n",
    "\n",
    "#Separação\n",
    "lista1 = notas[0]\n",
    "lista2 = notas[1]\n",
    "\n",
    "nome1 = lista1[0]\n",
    "nome2 = lista2[0]\n",
    "\n",
    "nota1 = lista1[1]\n",
    "nota2 = lista2[1]\n",
    "\n",
    "nota1 = sum(nota1)/2\n",
    "nota2 = sum(nota2)/2\n",
    "\n",
    "print(f\"O aluno(a) {nome1} ficou com média {nota1} \\nO aluno(a) {nome2} ficou com média : {nota2}\")"
   ]
  },
  {
   "cell_type": "markdown",
   "metadata": {},
   "source": [
    "19) Uma pista de Kart permite 10 voltas para cada um de 6 corredores. Escreva um programa que leia todos os tempos em segundos e os guarde em um dicionário, onde a chave é o nome do corredor. Ao final diga de quem foi a melhor volta da prova e em que volta; e ainda a classificação final em ordem (1o o campeão). O campeão é o que tem a menor média de tempos."
   ]
  },
  {
   "cell_type": "code",
   "execution_count": 37,
   "metadata": {},
   "outputs": [
    {
     "name": "stdout",
     "output_type": "stream",
     "text": [
      "Digite o nome: Alex\n",
      "Digite o tempo: 12\n",
      "Campeão: ['Alex', 12.0]\n"
     ]
    }
   ],
   "source": [
    "nome = input(\"Digite o nome: \")\n",
    "kart = [nome]\n",
    "tempo = float(input(\"Digite o tempo: \"))\n",
    "kart.append(tempo)\n",
    "print(\"Campeão: {}\".format(kart))"
   ]
  },
  {
   "cell_type": "markdown",
   "metadata": {},
   "source": [
    "20) Escreva um programa para armazenar uma agenda de telefones em um dicionário. Cada pessoa pode ter um ou mais telefones e a chave do dicionário é o nome da pessoa. Seu programa deve ter as seguintes funções: ->incluirNovoNome – essa função acrescenta um novo nome na agenda, com um ou mais telefones. Ela deve receber como argumentos o nome e os telefones. ->incluirTelefone – essa função acrescenta um telefone em um nome existente na agenda. Caso o nome não exista na agenda, você̂deve perguntar se a pessoa deseja inclui-lo. Caso a resposta seja afirmativa, use a função anterior para incluir o novo nome - excluirTelefone – essa função exclui um telefone de uma pessoa que já está na agenda. Se a pessoa tiver apenas um telefone, ela deve ser excluída da agenda. ->excluirNome – essa função exclui uma pessoa da agenda. ->consultarTelefone – essa função retorna os telefones de uma pessoa na agenda."
   ]
  },
  {
   "cell_type": "code",
   "execution_count": 40,
   "metadata": {},
   "outputs": [
    {
     "name": "stdout",
     "output_type": "stream",
     "text": [
      "Remova o contato: Alex, Joao ou Henri Alex\n",
      "{'Joao': 978945645, 'Henri': 975451547}\n"
     ]
    }
   ],
   "source": [
    "lista = {'Alex':924710000,'Joao':978945645,'Henri': 975451547}\n",
    "nome = input(\"Remova o contato: Alex, Joao ou Henri \")\n",
    "lista.pop(nome)\n",
    "print(lista)"
   ]
  },
  {
   "cell_type": "markdown",
   "metadata": {},
   "source": [
    "21) Faça um programa que leia um arquivo texto contendo uma lista de endereços IP e gere um outro arquivo, contendo um relatório dos endereços IP válidos e inválidos. O arquivo de entrada possui o seguinte formato: 200.135.80.9 192.168.1.1 8.35.67.74 257.32.4.5 85.345.1.2 1.2.3.4 9.8.234.5 192.168.0.256 O arquivo de saída possui o seguinte formato: [Endereços válidos:] 200.135.80.9 192.168.1.1 8.35.67.74 1.2.3.4 [Endereços inválidos:] 257.32.4.5 85.345.1.2 9.8.234.5 192.168.0.256"
   ]
  },
  {
   "cell_type": "code",
   "execution_count": 41,
   "metadata": {},
   "outputs": [
    {
     "name": "stdout",
     "output_type": "stream",
     "text": [
      "Writing exer21.txt\n"
     ]
    }
   ],
   "source": [
    "%%writefile exer21.txt\n",
    "my_file.write('Válidos 200.135.80.9 192.168.1.1 8.35.67.74 1.2.3.4')\n",
    "my_file.write('Inválidos 257.32.4.5 85.345.1.2 9.8.234.5 192.168.0.256')\n",
    "print(my_file.read())"
   ]
  },
  {
   "cell_type": "markdown",
   "metadata": {},
   "source": [
    "22) A ACME Inc., uma empresa de 500 funcionários, está tendo problemas de espaço em disco no seu servidor de arquivos. Para tentar resolver este problema, o Administrador de Rede precisa saber qual o espaço ocupado pelos usuários, e identificar os usuários com maior espaço ocupado. Através de um programa, baixado da Internet, ele conseguiu gerar o seguinte arquivo, chamado \"usuarios.txt\": alexandre 456123789 anderson 1245698456 antonio 123456456 carlos 91257581 cesar 987458 rosemary 789456125 Neste arquivo, o nome do usuário possui 15 caracteres. A partir deste arquivo, você deve criar um programa que gere um relatório, chamado \"relatório.txt\", no seguinte formato:\n",
    "\n",
    "- ACME Inc. Uso do espaço em disco pelos usuários\n",
    "\n",
    "- Nr. Usuário Espaço utilizado % do uso 1 alexandre 434,99 MB 16,85% 2 anderson 1187,99 MB 46,02% 3 antonio 117,73 MB 4,56% 4 carlos 87,03 MB 3,37% 5 cesar 0,94 MB 0,04% 6 rosemary 752,88 MB 29,16% Espaço total ocupado: 2581,57 MB Espaço médio ocupado: 430,26 MB O arquivo de entrada deve ser lido uma única vez, e os dados armazenados em memória, caso sejam necessários, de forma a agilizar a execução do programa. A conversão da espaço ocupado em disco, de bytes para megabytes deverá ser feita através de uma função separada, que será chamada pelo programa principal. O cálculo do percentual de uso também deverá ser feito através de uma função, que será chamada pelo programa principal."
   ]
  },
  {
   "cell_type": "code",
   "execution_count": 42,
   "metadata": {},
   "outputs": [
    {
     "name": "stdout",
     "output_type": "stream",
     "text": [
      "Writing relatório.txt\n"
     ]
    }
   ],
   "source": [
    "%%writefile relatório.txt\n",
    "ACME Inc. Uso do espaço em disco pelos usuários\n",
    "--------------------------------------------------------------\n",
    "Nr. Usuário Espaço utilizado % do uso\n",
    "1 alexandre 434,99 MB 16,85%\n",
    "2 anderson 1187,99 MB 46,02%\n",
    "3 antonio 117,73 MB 4,56%\n",
    "4 carlos 87,03 MB 3,37%\n",
    "5 cesar 0,94 MB 0,04%\n",
    "6 rosemary 752,88 MB 29,16%\n",
    "Espaço total ocupado: 2581,57 MB\n",
    "Espaço médio ocupado: 430,26 MB\n",
    "print(file.read())"
   ]
  },
  {
   "cell_type": "code",
   "execution_count": null,
   "metadata": {},
   "outputs": [],
   "source": []
  }
 ],
 "metadata": {
  "kernelspec": {
   "display_name": "Python 3",
   "language": "python",
   "name": "python3"
  },
  "language_info": {
   "codemirror_mode": {
    "name": "ipython",
    "version": 3
   },
   "file_extension": ".py",
   "mimetype": "text/x-python",
   "name": "python",
   "nbconvert_exporter": "python",
   "pygments_lexer": "ipython3",
   "version": "3.6.4"
  }
 },
 "nbformat": 4,
 "nbformat_minor": 2
}
